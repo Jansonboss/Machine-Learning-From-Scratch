{
 "cells": [
  {
   "cell_type": "code",
   "execution_count": 45,
   "source": [
    "import pandas as pd\n",
    "import numpy as np\n",
    "\n",
    "# https://medium.com/analytics-vidhya/naive-bayes-classifier-for-text-classification-556fabaf252b"
   ],
   "outputs": [],
   "metadata": {}
  },
  {
   "cell_type": "code",
   "execution_count": 46,
   "source": [
    "# Sample tony data\n",
    "\n",
    "apples_docs = [\n",
    "    \"red round\",\n",
    "    \"red round\",\n",
    "    \"green sour round\",\n",
    "    \"green round\",\n",
    "    \"pandas red\"\n",
    "]\n",
    "\n",
    "bananas_docs = [\n",
    "    \"yellow skinny\",\n",
    "    \"yellow skinny\",\n",
    "    \"green skinny\"\n",
    "]"
   ],
   "outputs": [],
   "metadata": {}
  },
  {
   "cell_type": "code",
   "execution_count": 47,
   "source": [
    "# Get all the unique tokens\n",
    "def get_corpus(data):\n",
    "\tcorpus = set()\n",
    "\tfor sentence in data:\n",
    "\t\tfor token in sentence.split():\n",
    "\t\t\tcorpus.add(token)\n",
    "\treturn (sorted(corpus))\n",
    "\n",
    "text_data = apples_docs + bananas_docs\n",
    "uniq_tokens = get_corpus(data)\n",
    "uniq_tokens"
   ],
   "outputs": [
    {
     "output_type": "execute_result",
     "data": {
      "text/plain": [
       "['green', 'pandas', 'red', 'round', 'skinny', 'sour', 'yellow']"
      ]
     },
     "metadata": {},
     "execution_count": 47
    }
   ],
   "metadata": {}
  },
  {
   "cell_type": "markdown",
   "source": [
    "Here we want to convert the `red round` into numerical vector\n",
    "\n",
    "```raw\n",
    "[\"green\", \"red\", \"round\", \"skinny\", \"sour\", \"yellow\"]\n",
    "\n",
    "    0       1       1        0         0       0    --> will be vector for sentence like red round\n",
    "\n",
    "    1       0       1        0         1       0    -->  \"green sour round\"\n",
    "\n",
    "```"
   ],
   "metadata": {}
  },
  {
   "cell_type": "markdown",
   "source": [
    "Notice that the shape of bow matrix = (number of sentence in corpus * number of unique word in corpus)"
   ],
   "metadata": {}
  },
  {
   "cell_type": "code",
   "execution_count": 49,
   "source": [
    "def bow(text_data, uniq_tokens):\n",
    "\n",
    "\tbow_matrix = np.zeros((len(data), len(tokens)))\n",
    "\n",
    "\tfor i, sentence in enumerate(data):\n",
    "\t\tfor word in sentence.split():\n",
    "\t\t\tbow_matrix[i, tokens.index(word)] += 1\n",
    "\n",
    "\treturn bow_matrix\t"
   ],
   "outputs": [],
   "metadata": {}
  },
  {
   "cell_type": "code",
   "execution_count": 53,
   "source": [
    "pd.DataFrame(bow_matrix, columns=uniq_tokens, index=text_data)"
   ],
   "outputs": [
    {
     "output_type": "execute_result",
     "data": {
      "text/html": [
       "<div>\n",
       "<style scoped>\n",
       "    .dataframe tbody tr th:only-of-type {\n",
       "        vertical-align: middle;\n",
       "    }\n",
       "\n",
       "    .dataframe tbody tr th {\n",
       "        vertical-align: top;\n",
       "    }\n",
       "\n",
       "    .dataframe thead th {\n",
       "        text-align: right;\n",
       "    }\n",
       "</style>\n",
       "<table border=\"1\" class=\"dataframe\">\n",
       "  <thead>\n",
       "    <tr style=\"text-align: right;\">\n",
       "      <th></th>\n",
       "      <th>green</th>\n",
       "      <th>pandas</th>\n",
       "      <th>red</th>\n",
       "      <th>round</th>\n",
       "      <th>skinny</th>\n",
       "      <th>sour</th>\n",
       "      <th>yellow</th>\n",
       "    </tr>\n",
       "  </thead>\n",
       "  <tbody>\n",
       "    <tr>\n",
       "      <th>red round</th>\n",
       "      <td>0.0</td>\n",
       "      <td>0.0</td>\n",
       "      <td>1.0</td>\n",
       "      <td>1.0</td>\n",
       "      <td>0.0</td>\n",
       "      <td>0.0</td>\n",
       "      <td>0.0</td>\n",
       "    </tr>\n",
       "    <tr>\n",
       "      <th>red round</th>\n",
       "      <td>0.0</td>\n",
       "      <td>0.0</td>\n",
       "      <td>1.0</td>\n",
       "      <td>1.0</td>\n",
       "      <td>0.0</td>\n",
       "      <td>0.0</td>\n",
       "      <td>0.0</td>\n",
       "    </tr>\n",
       "    <tr>\n",
       "      <th>green sour round</th>\n",
       "      <td>1.0</td>\n",
       "      <td>0.0</td>\n",
       "      <td>0.0</td>\n",
       "      <td>1.0</td>\n",
       "      <td>0.0</td>\n",
       "      <td>1.0</td>\n",
       "      <td>0.0</td>\n",
       "    </tr>\n",
       "    <tr>\n",
       "      <th>green round</th>\n",
       "      <td>1.0</td>\n",
       "      <td>0.0</td>\n",
       "      <td>0.0</td>\n",
       "      <td>1.0</td>\n",
       "      <td>0.0</td>\n",
       "      <td>0.0</td>\n",
       "      <td>0.0</td>\n",
       "    </tr>\n",
       "    <tr>\n",
       "      <th>pandas red</th>\n",
       "      <td>0.0</td>\n",
       "      <td>1.0</td>\n",
       "      <td>1.0</td>\n",
       "      <td>0.0</td>\n",
       "      <td>0.0</td>\n",
       "      <td>0.0</td>\n",
       "      <td>0.0</td>\n",
       "    </tr>\n",
       "    <tr>\n",
       "      <th>yellow skinny</th>\n",
       "      <td>0.0</td>\n",
       "      <td>0.0</td>\n",
       "      <td>0.0</td>\n",
       "      <td>0.0</td>\n",
       "      <td>1.0</td>\n",
       "      <td>0.0</td>\n",
       "      <td>1.0</td>\n",
       "    </tr>\n",
       "    <tr>\n",
       "      <th>yellow skinny</th>\n",
       "      <td>0.0</td>\n",
       "      <td>0.0</td>\n",
       "      <td>0.0</td>\n",
       "      <td>0.0</td>\n",
       "      <td>1.0</td>\n",
       "      <td>0.0</td>\n",
       "      <td>1.0</td>\n",
       "    </tr>\n",
       "    <tr>\n",
       "      <th>green skinny</th>\n",
       "      <td>1.0</td>\n",
       "      <td>0.0</td>\n",
       "      <td>0.0</td>\n",
       "      <td>0.0</td>\n",
       "      <td>1.0</td>\n",
       "      <td>0.0</td>\n",
       "      <td>0.0</td>\n",
       "    </tr>\n",
       "  </tbody>\n",
       "</table>\n",
       "</div>"
      ],
      "text/plain": [
       "                  green  pandas  red  round  skinny  sour  yellow\n",
       "red round           0.0     0.0  1.0    1.0     0.0   0.0     0.0\n",
       "red round           0.0     0.0  1.0    1.0     0.0   0.0     0.0\n",
       "green sour round    1.0     0.0  0.0    1.0     0.0   1.0     0.0\n",
       "green round         1.0     0.0  0.0    1.0     0.0   0.0     0.0\n",
       "pandas red          0.0     1.0  1.0    0.0     0.0   0.0     0.0\n",
       "yellow skinny       0.0     0.0  0.0    0.0     1.0   0.0     1.0\n",
       "yellow skinny       0.0     0.0  0.0    0.0     1.0   0.0     1.0\n",
       "green skinny        1.0     0.0  0.0    0.0     1.0   0.0     0.0"
      ]
     },
     "metadata": {},
     "execution_count": 53
    }
   ],
   "metadata": {}
  },
  {
   "cell_type": "code",
   "execution_count": 39,
   "source": [],
   "outputs": [
    {
     "output_type": "execute_result",
     "data": {
      "text/plain": [
       "['green', 'pandas', 'red', 'round', 'skinny', 'sour', 'yellow']"
      ]
     },
     "metadata": {},
     "execution_count": 39
    }
   ],
   "metadata": {}
  },
  {
   "cell_type": "code",
   "execution_count": null,
   "source": [],
   "outputs": [],
   "metadata": {}
  }
 ],
 "metadata": {
  "orig_nbformat": 4,
  "language_info": {
   "name": "python",
   "version": "3.8.5",
   "mimetype": "text/x-python",
   "codemirror_mode": {
    "name": "ipython",
    "version": 3
   },
   "pygments_lexer": "ipython3",
   "nbconvert_exporter": "python",
   "file_extension": ".py"
  },
  "kernelspec": {
   "name": "python3",
   "display_name": "Python 3.8.5 64-bit ('base': conda)"
  },
  "interpreter": {
   "hash": "e134e05457d34029b6460cd73bbf1ed73f339b5b6d98c95be70b69eba114fe95"
  }
 },
 "nbformat": 4,
 "nbformat_minor": 2
}