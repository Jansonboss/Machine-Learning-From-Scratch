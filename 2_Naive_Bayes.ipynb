{
 "cells": [
  {
   "cell_type": "code",
   "execution_count": 1,
   "source": [
    "import pandas as pd\n",
    "import numpy as np"
   ],
   "outputs": [],
   "metadata": {}
  },
  {
   "cell_type": "code",
   "execution_count": 2,
   "source": [
    "# Sample tony data\n",
    "\n",
    "apples_docs = [\n",
    "    \"red round\",\n",
    "    \"red round\",\n",
    "    \"green sour round\",\n",
    "    \"green round\",\n",
    "]\n",
    "\n",
    "bananas_docs = [\n",
    "    \"yellow skinny\",\n",
    "    \"yellow skinny\",\n",
    "    \"green skinny\"\n",
    "]"
   ],
   "outputs": [],
   "metadata": {}
  },
  {
   "cell_type": "code",
   "execution_count": 13,
   "source": [
    "# Get all the unique tokens\n",
    "def get_corpus(data):\n",
    "\tcorpus = set()\n",
    "\tfor sentence in data:\n",
    "\t\tfor token in sentence.split():\n",
    "\t\t\tcorpus.add(token)\n",
    "\treturn list(sorted(corpus))\n",
    "\n",
    "data = bananas_docs + apples_docs\n",
    "corpus = get_corpus(data)\n",
    "corpus"
   ],
   "outputs": [
    {
     "output_type": "execute_result",
     "data": {
      "text/plain": [
       "['green', 'red', 'round', 'skinny', 'sour', 'yellow']"
      ]
     },
     "metadata": {},
     "execution_count": 13
    }
   ],
   "metadata": {}
  },
  {
   "cell_type": "markdown",
   "source": [
    "Here we want to convert the `red round` into numerical vector\n",
    "\n",
    "```raw\n",
    "[\"green\", \"red\", \"round\", \"skinny\", \"sour\", \"yellow\"]\n",
    "\n",
    "    0       1       1        0         0       0    --> will be vector for sentence like red round\n",
    "\n",
    "    1       0       1        0         1       0    -->  \"green sour round\"\n",
    "\n",
    "```"
   ],
   "metadata": {}
  },
  {
   "cell_type": "code",
   "execution_count": null,
   "source": [],
   "outputs": [],
   "metadata": {}
  },
  {
   "cell_type": "code",
   "execution_count": null,
   "source": [],
   "outputs": [],
   "metadata": {}
  }
 ],
 "metadata": {
  "orig_nbformat": 4,
  "language_info": {
   "name": "python",
   "version": "3.8.5",
   "mimetype": "text/x-python",
   "codemirror_mode": {
    "name": "ipython",
    "version": 3
   },
   "pygments_lexer": "ipython3",
   "nbconvert_exporter": "python",
   "file_extension": ".py"
  },
  "kernelspec": {
   "name": "python3",
   "display_name": "Python 3.8.5 64-bit ('base': conda)"
  },
  "interpreter": {
   "hash": "e134e05457d34029b6460cd73bbf1ed73f339b5b6d98c95be70b69eba114fe95"
  }
 },
 "nbformat": 4,
 "nbformat_minor": 2
}