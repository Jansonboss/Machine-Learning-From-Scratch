{
 "cells": [
  {
   "cell_type": "code",
   "execution_count": 1,
   "metadata": {},
   "outputs": [],
   "source": [
    "import torch \n",
    "import numpy as np\n",
    "import torch.nn as nn\n",
    "import matplotlib.pyplot as plt\n",
    "\n",
    "# https://jovian.ai/aakashns/02-linear-regression"
   ]
  },
  {
   "cell_type": "code",
   "execution_count": 2,
   "metadata": {},
   "outputs": [
    {
     "data": {
      "image/png": "[encoded data removed]",
      "text/plain": [
       "<Figure size 432x288 with 1 Axes>"
      ]
     },
     "metadata": {
      "needs_background": "light"
     },
     "output_type": "display_data"
    }
   ],
   "source": [
    "n, d = 100, 1 # 1 dimension array\n",
    "#                         |\n",
    "X = np.random.uniform(-1, 1, (n, d))\n",
    "w_true, b_true = np.array([5]).reshape(-1, 1), np.array([10])\n",
    "\n",
    "# noise is 1 dim array as well\n",
    "noise = np.random.uniform(-1, 1, (n, 1))\n",
    "\n",
    "# y = X @ W + b\n",
    "y_true = X @ w_true + b_true + noise\n",
    "y_true_graph = X @ w_true + b_true\n",
    "\n",
    "plt.scatter(X, y_true, s = 2, color = \"black\")\n",
    "plt.plot(X, y_true_graph)\n",
    "plt.plot()\n",
    "\n",
    "\n",
    "plt.show()"
   ]
  },
  {
   "cell_type": "code",
   "execution_count": null,
   "metadata": {},
   "outputs": [],
   "source": []
  },
  {
   "cell_type": "markdown",
   "metadata": {},
   "source": [
    "# Linear Regression from Scratch (mimic pytorch)\n",
    "\n",
    "\n",
    "## Initialize random weights"
   ]
  },
  {
   "cell_type": "code",
   "execution_count": 3,
   "metadata": {},
   "outputs": [],
   "source": [
    "# intiliaze random weights\n",
    "class LinearModel:\n",
    "    def __init__(self, input_dim, output_dim = 1):\n",
    "        self.weights = np.random.randn(input_dim, output_dim) * np.sqrt(2. / input_dim)\n",
    "        self.bias = np.zeros(output_dim)\n",
    "    \n",
    "    def __call__(self, x):\n",
    "        # same thing in nn.Module forward function\n",
    "        self.x = x\n",
    "        return x @ self.weights + self.bias\n",
    "    \n",
    "    def __str__(self):\n",
    "        return self.weights, self.bias"
   ]
  },
  {
   "cell_type": "code",
   "execution_count": 4,
   "metadata": {},
   "outputs": [
    {
     "data": {
      "text/plain": [
       "<matplotlib.legend.Legend at 0x7fe871ba3700>"
      ]
     },
     "execution_count": 4,
     "metadata": {},
     "output_type": "execute_result"
    },
    {
     "data": {
      "image/png": "[encoded data removed]",
      "text/plain": [
       "<Figure size 432x288 with 1 Axes>"
      ]
     },
     "metadata": {
      "needs_background": "light"
     },
     "output_type": "display_data"
    }
   ],
   "source": [
    "myLinear = LinearModel(input_dim=1)\n",
    "y_pred = myLinear(X)\n",
    "\n",
    "plt.scatter(X, y_true, marker='x', label='underlying function')\n",
    "plt.plot(X, y_pred, color='r', marker='.', label='our function')\n",
    "plt.legend()"
   ]
  },
  {
   "cell_type": "markdown",
   "metadata": {},
   "source": [
    "## Loss Function Implementation"
   ]
  },
  {
   "cell_type": "code",
   "execution_count": 5,
   "metadata": {},
   "outputs": [],
   "source": [
    "class MSE:\n",
    "\n",
    "    def __call__(self, y_true, y_pred):\n",
    "        self.y_true = y_true\n",
    "        self.y_pred = y_pred\n",
    "        return np.mean((self.y_true - self.y_pred)**2)"
   ]
  },
  {
   "cell_type": "code",
   "execution_count": 6,
   "metadata": {},
   "outputs": [
    {
     "data": {
      "text/plain": [
       "121.85502152909737"
      ]
     },
     "execution_count": 6,
     "metadata": {},
     "output_type": "execute_result"
    }
   ],
   "source": [
    "loss = MSE()\n",
    "loss(y_true, y_pred)"
   ]
  },
  {
   "cell_type": "markdown",
   "metadata": {},
   "source": [
    "## Add gradient component and backprobgation(mimic pytorch)\n",
    "\n",
    "\n",
    "- loss = MSE()\n",
    "- linear = Linear(d)\n",
    "- y_pred = linear(x)\n",
    "- print(loss(y_pred, y_true))\n",
    "- loss_gradient = loss.backward()\n",
    "- linear.backward(loss_gradient)\n",
    "- linear.update(0.1)\n",
    "- y_pred = linear(x)\n",
    "- print(loss(y_pred, y_true))"
   ]
  },
  {
   "cell_type": "markdown",
   "metadata": {},
   "source": [
    "![img](./img/gradient_mse_matrix1.png)\n",
    "\n",
    "We can use numpy to compute the gradient in matrix form --> [beta0, beta1]. For the code down below, we compute `w1` and `bias` parameters seperately"
   ]
  },
  {
   "cell_type": "code",
   "execution_count": 51,
   "metadata": {},
   "outputs": [],
   "source": [
    "class MSE:\n",
    "    \n",
    "    def __call__(self, y_true, y_pred):\n",
    "        self.y_true = y_true\n",
    "        self.y_pred = y_pred\n",
    "        return np.mean((y_true - y_pred)**2)\n",
    "    \n",
    "    def backward(self):\n",
    "        # stochastic gradient descent\n",
    "        n = self.y_true.shape[0]\n",
    "        return 2/n * (self.y_pred - self.y_true) # dloss/dyhat (grey part)"
   ]
  },
  {
   "cell_type": "markdown",
   "metadata": {},
   "source": [
    "![img](./img/partial_deriv6.png)"
   ]
  },
  {
   "cell_type": "code",
   "execution_count": 45,
   "metadata": {},
   "outputs": [],
   "source": [
    "# intiliaze random weights\n",
    "class LinearModel:\n",
    "    def __init__(self, input_dim, output_dim = 1):\n",
    "        self.weights = np.random.randn(input_dim, output_dim) * np.sqrt(2. / input_dim)\n",
    "        self.bias = np.zeros(output_dim)\n",
    "    \n",
    "    def __call__(self, x):\n",
    "        self.x = x\n",
    "        return x @ self.weights + self.bias\n",
    "    \n",
    "    def __str__(self):\n",
    "        return self.weights, self.bias\n",
    "    \n",
    "    def backward(self, loss_gradient):                    #                        (blue part)\n",
    "        self.weights_gradient = self.x.T @ loss_gradient # dloss/dw = dloss/dy_hat * dyhat/dw\n",
    "        self.bias_gradient = loss_gradient.sum(axis=0) # dloss/dbias = dloss/dyheat * dyhat/dbias\n",
    "#         print(self.x.shape, loss_gradient.shape) => (100, 1) (100, 1)\n",
    "    \n",
    "    def step(self, lr):\n",
    "        self.weights = self.weights - lr * self.weights_gradient\n",
    "        self.bias = self.bias - lr * self.bias_gradient"
   ]
  },
  {
   "cell_type": "markdown",
   "metadata": {},
   "source": [
    "![img](./img/gradient_mse_matrix2.png)"
   ]
  },
  {
   "cell_type": "code",
   "execution_count": 46,
   "metadata": {},
   "outputs": [],
   "source": [
    "def one_epoch_test(X, lr, myLinearModel, loss):\n",
    "    \n",
    "    y_pred = myLinearModel(X)\n",
    "    loss_value = loss(y_true, y_pred)\n",
    "    print(\"loss: \", loss_value)\n",
    "\n",
    "    gradient_from_loss = loss.backward()\n",
    "    myLinearModel.backward(gradient_from_loss)\n",
    "    myLinearModel.step(lr)"
   ]
  },
  {
   "cell_type": "code",
   "execution_count": 47,
   "metadata": {},
   "outputs": [
    {
     "name": "stdout",
     "output_type": "stream",
     "text": [
      "loss:  120.04222953391181\n"
     ]
    }
   ],
   "source": [
    "\n",
    "d, loss = 1, MSE()\n",
    "myLinearModel = LinearModel(d)\n",
    "lr, num_epochs = 0.01, 100\n",
    "\n",
    "one_epoch_test(X, lr, myLinearModel, loss)"
   ]
  },
  {
   "cell_type": "code",
   "execution_count": 48,
   "metadata": {},
   "outputs": [],
   "source": [
    "def one_epoch_train(X, lr, myLinearModel, loss):\n",
    "    \n",
    "    y_pred = myLinearModel(X)\n",
    "    loss_value = loss(y_true, y_pred)\n",
    "    print(f'Epoch {epoch}, loss {loss_value}')\n",
    "    plt.plot(X, y_pred.squeeze(), label=f'Epoch {epoch}')\n",
    "    gradient_from_loss = loss.backward()\n",
    "    myLinearModel.backward(gradient_from_loss)\n",
    "    myLinearModel.step(lr)\n",
    "    return X, y_pred"
   ]
  },
  {
   "cell_type": "code",
   "execution_count": 50,
   "metadata": {},
   "outputs": [
    {
     "name": "stdout",
     "output_type": "stream",
     "text": [
      "Epoch 0, loss 110.52985479046507\n",
      "Epoch 1, loss 71.81750667289019\n",
      "Epoch 2, loss 46.93321376408037\n",
      "Epoch 3, loss 30.903947231544745\n",
      "Epoch 4, loss 20.5500512945234\n",
      "Epoch 5, loss 13.837806623328198\n",
      "Epoch 6, loss 9.465831439564614\n",
      "Epoch 7, loss 6.600849252888719\n",
      "Epoch 8, loss 4.708868464500528\n",
      "Epoch 9, loss 3.4473106372009976\n",
      "Epoch 10, loss 2.5960740606036143\n",
      "Epoch 11, loss 2.0134713434849023\n",
      "Epoch 12, loss 1.6080590602825857\n",
      "Epoch 13, loss 1.32062183536913\n",
      "Epoch 14, loss 1.1126455778233106\n",
      "Epoch 15, loss 0.9589382976564151\n",
      "Epoch 16, loss 0.8429024884301455\n",
      "Epoch 17, loss 0.7535031922353589\n",
      "Epoch 18, loss 0.6833209058259229\n",
      "Epoch 19, loss 0.62729891554069\n",
      "Epoch 20, loss 0.581935477834296\n",
      "Epoch 21, loss 0.5447612442228564\n",
      "Epoch 22, loss 0.5139998297622893\n",
      "Epoch 23, loss 0.4883461739003462\n",
      "Epoch 24, loss 0.4668208351179948\n",
      "Epoch 25, loss 0.4486733828915742\n",
      "Epoch 26, loss 0.4333176599296919\n",
      "Epoch 27, loss 0.4202878377761939\n",
      "Epoch 28, loss 0.40920812770458526\n",
      "Epoch 29, loss 0.3997715337288787\n",
      "Epoch 30, loss 0.3917246550371176\n",
      "Epoch 31, loss 0.38485658684368607\n",
      "Epoch 32, loss 0.37899063970117264\n",
      "Epoch 33, loss 0.37397803079735226\n",
      "Epoch 34, loss 0.3696929818105951\n",
      "Epoch 35, loss 0.366028840978566\n",
      "Epoch 36, loss 0.3628949670288904\n",
      "Epoch 37, loss 0.36021419187825016\n",
      "Epoch 38, loss 0.3579207318681879\n",
      "Epoch 39, loss 0.35595845298536105\n",
      "Epoch 40, loss 0.35427941994257867\n",
      "Epoch 41, loss 0.3528426760029795\n",
      "Epoch 42, loss 0.3516132124925791\n",
      "Epoch 43, loss 0.35056109567879823\n",
      "Epoch 44, loss 0.3496607251496172\n",
      "Epoch 45, loss 0.3488902027048942\n",
      "Epoch 46, loss 0.34823079453049677\n",
      "Epoch 47, loss 0.3476664723782041\n",
      "Epoch 48, loss 0.3471835218318159\n",
      "Epoch 49, loss 0.34677020764945227\n"
     ]
    },
    {
     "data": {
      "image/png": "[encoded data removed]",
      "text/plain": [
       "<Figure size 432x288 with 1 Axes>"
      ]
     },
     "metadata": {
      "needs_background": "light"
     },
     "output_type": "display_data"
    }
   ],
   "source": [
    "d, loss = 1, MSE()\n",
    "myLinearModel = LinearModel(d)\n",
    "lr, num_epochs = .1, 50\n",
    "\n",
    "plt.scatter(X, y_true, marker='x', label='underlying function')\n",
    "for epoch in range(num_epochs):\n",
    "    X, y_pred = one_epoch_train(X, lr, myLinearModel, loss)"
   ]
  },
  {
   "cell_type": "code",
   "execution_count": 35,
   "metadata": {},
   "outputs": [
    {
     "data": {
      "text/plain": [
       "[<matplotlib.lines.Line2D at 0x7fe890b00970>]"
      ]
     },
     "execution_count": 35,
     "metadata": {},
     "output_type": "execute_result"
    },
    {
     "data": {
      "image/png": "[encoded data removed]",
      "text/plain": [
       "<Figure size 432x288 with 1 Axes>"
      ]
     },
     "metadata": {
      "needs_background": "light"
     },
     "output_type": "display_data"
    }
   ],
   "source": [
    "# get the final fitted line\n",
    "plt.scatter(X, y_true, marker='x', label='underlying function')\n",
    "plt.plot(X, y_pred.squeeze(), c = \"r\")"
   ]
  },
  {
   "cell_type": "code",
   "execution_count": null,
   "metadata": {},
   "outputs": [],
   "source": []
  },
  {
   "cell_type": "markdown",
   "metadata": {},
   "source": [
    "# Linear Regression from Scratch (Mimic sklearn)"
   ]
  },
  {
   "cell_type": "code",
   "execution_count": 36,
   "metadata": {},
   "outputs": [],
   "source": [
    "import numpy as np\n",
    "import pandas as pd\n",
    "from pandas.api.types import is_numeric_dtype\n",
    "\n",
    "\n",
    "def normalize(X): # creating standard variables here (u-x)/sigma\n",
    "    if isinstance(X, pd.DataFrame):\n",
    "        for c in X.columns:\n",
    "            if is_numeric_dtype(X[c]):\n",
    "                u = np.mean(X[c])\n",
    "                s = np.std(X[c])\n",
    "                X[c] = (X[c] - u) / s\n",
    "        return\n",
    "    for j in range(X.shape[1]):\n",
    "        u = np.mean(X[:,j])\n",
    "        s = np.std(X[:,j])\n",
    "        X[:, j] = (X[:, j] - u) / s\n",
    "\n",
    "def MSE(X, y, B, lmbda):\n",
    "    \"\"\"\n",
    "    X, y, beta: B are all numpy array\n",
    "    X: (n, p) Matrix\n",
    "    Y: (n, 1) vector\n",
    "    B: (p, 1) vector\n",
    "    \"\"\"\n",
    "    error = y - np.dot(X, B)\n",
    "    # eTe => error vector dot itsef = square of norm\n",
    "    # notice that mse is a quadratic equation -> convex guarenteed\n",
    "    sse = np.linalg.norm(error) ** 2  # sum of squared errors\n",
    "    num_observations = X.shape[0]  # num_observations = n\n",
    "\n",
    "    # return mean square of error\n",
    "    return sse / num_observations\n",
    "    # For optimization, we don’t care about scaling MSE by 1/n\n",
    "    # (though we have to be careful to adjust\n",
    "    # the learning rate), giving our “loss” function:\n",
    "\n",
    "\n",
    "def loss_gradient(X, y, B, lmbda):\n",
    "    \"\"\"\n",
    "    This function implement the gradient of loss function: MSE\n",
    "    By using caculas method. You can also use numerical way\n",
    "    to approach the gradient of loss function\n",
    "    https://cs231n.github.io/optimization-1/\n",
    "\n",
    "    X, y, beta: B are all numpy array\n",
    "    X: (n, p) Matrix\n",
    "    Y: (p, 1) vector\n",
    "    B: (p, 1) vector\n",
    "    \"\"\"\n",
    "    error = y - X.dot(B)  # (n, 1)\n",
    "    gradientOfLossFucntion = -np.dot(X.T, error)  # (p, n) @ (n,1)\n",
    "    return gradientOfLossFucntion  # (p, 1)"
   ]
  },
  {
   "cell_type": "code",
   "execution_count": 38,
   "metadata": {},
   "outputs": [],
   "source": [
    "def minimize(X, y, loss_gradient, eta=0.00001,\n",
    "            lmbda=0.0, max_iter=1000, addB0=True, precision=1e-9):\n",
    "\n",
    "    \"\"\"Performing AdaGradient Descent to minimize\n",
    "\n",
    "    Args:\n",
    "        X ([type]): [description]\n",
    "        y ([type]): [description]\n",
    "        loss_gradient ([type]): [description]\n",
    "        eta (float, optional): [description]. Defaults to 0.00001.\n",
    "            eta will set learing rate (Step Size)\n",
    "        lmbda (float, optional): [description]. Defaults to 0.0.\n",
    "        max_iter (int, optional): [description]. Defaults to 1000.\n",
    "        addB0 (bool, optional): [description]. Defaults to True.\n",
    "\n",
    "        precision (float, optional): [description]. Defaults to 0.00000001.\n",
    "    \"\"\"\n",
    "    if X.ndim != 2:\n",
    "        raise ValueError(\"X must be n x p for p features\")\n",
    "\n",
    "    n, p = X.shape\n",
    "    if y.shape != (n, 1):\n",
    "        raise ValueError(f\"y must be n={n} x 1 not {y.shape}\")\n",
    "\n",
    "    # add column of 1s to X\n",
    "    # https://stackoverflow.com/questions/8486294/how-to-add-an-extra-column-to-a-numpy-array\n",
    "    if addB0:\n",
    "        # .c_ goes for add columns, .r_: add row\n",
    "        X = np.c_[np.ones(n), X]\n",
    "        p += 1  # add extra dim for beta_0\n",
    "\n",
    "    # initialize beta vector as ranndom vector, make between [-1,1)\n",
    "    B = np.random.random_sample(size=(p, 1)) * 2 - 1\n",
    "\n",
    "    # store history of beta vector: useful for adagradient\n",
    "    # eps -> prevent division by 0\n",
    "    prev_B, eps = B, 1e-5\n",
    "    history = np.zeros((p, 1))\n",
    "\n",
    "    index = 0\n",
    "    while index < max_iter:\n",
    "        # gradientOFLoss: numpy array contain gradient at x point (p, 1)\n",
    "        grad_loss = loss_gradient(X, y, B, lmbda)\n",
    "        history += grad_loss ** 2\n",
    "        # Important: do not assign it like below otherwise the scale vector\n",
    "        # will be really small and later on gradient will explode and never\n",
    "        # converge scale_vector = 1 / np.sqrt(history + eps)\n",
    "\n",
    "        if np.linalg.norm(grad_loss) < precision:\n",
    "            print(\"gradient decent finished, solution gets converged\")\n",
    "            return B\n",
    "        # elementwise muplication\n",
    "        B = B - eta / np.sqrt(history + eps) * grad_loss\n",
    "        index += 1\n",
    "\n",
    "    # if number of iteration get access predefined level\n",
    "    print(\"iteration over max level, not converged stop iterating\")\n",
    "    return B"
   ]
  },
  {
   "cell_type": "code",
   "execution_count": 39,
   "metadata": {},
   "outputs": [],
   "source": [
    "class LinearRegression621:  # REQUIRED\n",
    "    \"\"\"\n",
    "    usage:\n",
    "        regr = LinearRegression621()\n",
    "        regr.fit(X_train, y_train)\n",
    "        y_pred = regr.predict(X_test)\n",
    "    \"\"\"\n",
    "    def __init__(self, eta=0.00001, lmbda=0.0, max_iter=1000):\n",
    "        self.eta = eta\n",
    "        self.lmbda = lmbda\n",
    "        self.max_iter = max_iter\n",
    "\n",
    "    def predict(self, X):\n",
    "        n = X.shape[0]\n",
    "        B0 = np.ones(shape=(n, 1))\n",
    "        X = np.hstack([B0, X])\n",
    "        return np.dot(X, self.B)\n",
    "\n",
    "    def fit(self, X, y):\n",
    "        self.B = minimize(\n",
    "            X, y, loss_gradient, self.eta,\n",
    "            self.lmbda, self.max_iter)"
   ]
  }
 ],
 "metadata": {
  "interpreter": {
   "hash": "e134e05457d34029b6460cd73bbf1ed73f339b5b6d98c95be70b69eba114fe95"
  },
  "kernelspec": {
   "display_name": "Python 3",
   "language": "python",
   "name": "python3"
  },
  "language_info": {
   "codemirror_mode": {
    "name": "ipython",
    "version": 3
   },
   "file_extension": ".py",
   "mimetype": "text/x-python",
   "name": "python",
   "nbconvert_exporter": "python",
   "pygments_lexer": "ipython3",
   "version": "3.8.5"
  }
 },
 "nbformat": 4,
 "nbformat_minor": 2
}
